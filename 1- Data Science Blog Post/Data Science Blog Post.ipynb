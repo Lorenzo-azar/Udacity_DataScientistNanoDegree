{
 "cells": [
  {
   "cell_type": "markdown",
   "metadata": {},
   "source": [
    "# Udacity Data Scientist NanoDegree - Project 1 (Data Science Blog Post)\n",
    "\n",
    "## Analyzing and Comparing Airbnb Housing Data (Seattle and Boston)\n",
    "\n",
    "In this project, we will be using Airbnb Open Data in Seattle and Boston. Visualizations will follow to help the explanation and answer the 3 following questions. "
   ]
  },
  {
   "cell_type": "markdown",
   "metadata": {},
   "source": [
    "### Questions:\n",
    "\n",
    "1. Which area (Between Seattle and Boston) has the highest housing rates? And what is the average difference between them?\n",
    "2. Which area has more availability in general?\n",
    "3. What are the times of the year (by month) where there is more availability in housing?"
   ]
  },
  {
   "cell_type": "markdown",
   "metadata": {},
   "source": [
    "### Data Acquisition & Preparation from CSV files"
   ]
  },
  {
   "cell_type": "code",
   "execution_count": 109,
   "metadata": {},
   "outputs": [],
   "source": [
    "import pandas as pd\n",
    "import datetime\n",
    "import warnings\n",
    "warnings.filterwarnings('ignore')\n",
    "\n",
    "seattle_data = pd.read_csv(\"Seattle_Airbnb_Calendar_Listing.csv\")\n",
    "boston_data = pd.read_csv(\"Boston_Airbnb_Calendar_Listing.csv\")\n"
   ]
  },
  {
   "cell_type": "markdown",
   "metadata": {},
   "source": [
    "### Data Manipulation\n",
    "### 1. Analyzing Prices\n",
    "since the dataset we're interested in analyzing is only related to price and availability, it doesn't make sense to keep the null row values. "
   ]
  },
  {
   "cell_type": "code",
   "execution_count": 110,
   "metadata": {},
   "outputs": [],
   "source": [
    "# Remove the rows having null values\n",
    "seattle_edited = seattle_data.dropna()\n",
    "boston_edited = boston_data.dropna()"
   ]
  },
  {
   "cell_type": "markdown",
   "metadata": {},
   "source": [
    "After analyzing the data in the price column, we find out that the prices have a dollar sign and are strings formed with commas and periods, which will make it harder to find the average.\n",
    "Moreover, we will find that there are prices that are $0, which doesn't make sense actually to our study - free accomodation. We will also proceed by removing them. "
   ]
  },
  {
   "cell_type": "code",
   "execution_count": 111,
   "metadata": {},
   "outputs": [],
   "source": [
    "# removing the dollar sign from the price column\n",
    "seattle_edited['price'] = seattle_edited['price'].str.replace('$','')\n",
    "seattle_edited['price'] = seattle_edited['price'].str.replace(',','')\n",
    "seattle_edited['price'] = seattle_edited['price'].str.replace('.00','')\n",
    "\n",
    "# converting the price column from str to numeric to study\n",
    "seattle_edited[\"price\"] = pd.to_numeric(seattle_edited[\"price\"], downcast=\"float\")\n",
    "\n",
    "# removing the zero values\n",
    "seattle_edited = seattle_edited[seattle_edited.price != 0]"
   ]
  },
  {
   "cell_type": "code",
   "execution_count": 112,
   "metadata": {},
   "outputs": [],
   "source": [
    "# removing the dollar sign from the price column\n",
    "boston_edited['price'] = boston_edited['price'].str.replace('$','')\n",
    "boston_edited['price'] = boston_edited['price'].str.replace(',','')\n",
    "boston_edited['price'] = boston_edited['price'].str.replace('.00','')\n",
    "\n",
    "# converting the price column from str to numeric to study\n",
    "boston_edited[\"price\"] = pd.to_numeric(boston_edited[\"price\"], downcast=\"float\")\n",
    "\n",
    "# removing the zero values\n",
    "boston_edited = boston_edited[boston_edited.price != 0]"
   ]
  },
  {
   "cell_type": "code",
   "execution_count": 113,
   "metadata": {},
   "outputs": [
    {
     "name": "stdout",
     "output_type": "stream",
     "text": [
      "Seattle:\n",
      "The mean price is 132.53591918945312 $\n",
      "The min price is 10.0 $\n",
      "The max price is 1650.0 $\n"
     ]
    }
   ],
   "source": [
    "mean_price_sea = seattle_edited['price'].mean()\n",
    "max_price_sea = seattle_edited['price'].max()\n",
    "min_price_sea = seattle_edited['price'].min()\n",
    "\n",
    "print(f\"Seattle:\\nThe mean price is {mean_price_sea} $\\nThe min price is {min_price_sea} $\\nThe max price is {max_price_sea} $\")"
   ]
  },
  {
   "cell_type": "code",
   "execution_count": 114,
   "metadata": {},
   "outputs": [
    {
     "name": "stdout",
     "output_type": "stream",
     "text": [
      "Boston:\n",
      "The mean price is 188.2623291015625 $\n",
      "The min price is 1.0 $\n",
      "The max price is 7163.0 $\n"
     ]
    }
   ],
   "source": [
    "mean_price_bos = boston_edited['price'].mean()\n",
    "max_price_bos = boston_edited['price'].max()\n",
    "min_price_bos = boston_edited['price'].min()\n",
    "\n",
    "print(f\"Boston:\\nThe mean price is {mean_price_bos} $\\nThe min price is {min_price_bos} $\\nThe max price is {max_price_bos} $\")"
   ]
  },
  {
   "cell_type": "code",
   "execution_count": 115,
   "metadata": {},
   "outputs": [
    {
     "data": {
      "text/plain": [
       "array([[<AxesSubplot:title={'center':'price'}>]], dtype=object)"
      ]
     },
     "execution_count": 115,
     "metadata": {},
     "output_type": "execute_result"
    },
    {
     "data": {
      "image/png": "[encoded data removed]",
      "text/plain": [
       "<Figure size 432x288 with 1 Axes>"
      ]
     },
     "metadata": {
      "needs_background": "light"
     },
     "output_type": "display_data"
    },
    {
     "data": {
      "image/png": "[encoded data removed]",
      "text/plain": [
       "<Figure size 432x288 with 1 Axes>"
      ]
     },
     "metadata": {
      "needs_background": "light"
     },
     "output_type": "display_data"
    }
   ],
   "source": [
    "# Visualizing Seattle's prices\n",
    "seattle_edited.hist(column='price', bins=100)\n",
    "\n",
    "# Visualizing Boston's prices\n",
    "boston_edited.hist(column='price', bins=100)"
   ]
  },
  {
   "cell_type": "markdown",
   "metadata": {},
   "source": [
    "### 2. Analyzing General Availability\n",
    "Analyzing the avalability column, we can find that our edited dataset only includes the available apartments, which shows that our decision of eliminating the rows was wrong. This is why we will use the original dataset for the next section"
   ]
  },
  {
   "cell_type": "code",
   "execution_count": 116,
   "metadata": {},
   "outputs": [
    {
     "data": {
      "text/plain": [
       "t    934542\n",
       "f    459028\n",
       "Name: available, dtype: int64"
      ]
     },
     "execution_count": 116,
     "metadata": {},
     "output_type": "execute_result"
    }
   ],
   "source": [
    "seattle_data['available'].value_counts()"
   ]
  },
  {
   "cell_type": "code",
   "execution_count": 117,
   "metadata": {},
   "outputs": [
    {
     "data": {
      "text/plain": [
       "<AxesSubplot:title={'center':'Seattle Availability'}>"
      ]
     },
     "execution_count": 117,
     "metadata": {},
     "output_type": "execute_result"
    },
    {
     "data": {
      "image/png": "[encoded data removed]",
      "text/plain": [
       "<Figure size 432x288 with 1 Axes>"
      ]
     },
     "metadata": {
      "needs_background": "light"
     },
     "output_type": "display_data"
    }
   ],
   "source": [
    "# Visualizing Seattle's availability\n",
    "seattle_data['available'].value_counts().plot(kind='bar', \n",
    "                                     title='Seattle Availability')"
   ]
  },
  {
   "cell_type": "code",
   "execution_count": 118,
   "metadata": {},
   "outputs": [
    {
     "data": {
      "text/plain": [
       "f    665853\n",
       "t    643037\n",
       "Name: available, dtype: int64"
      ]
     },
     "execution_count": 118,
     "metadata": {},
     "output_type": "execute_result"
    }
   ],
   "source": [
    "boston_data['available'].value_counts()"
   ]
  },
  {
   "cell_type": "code",
   "execution_count": 119,
   "metadata": {},
   "outputs": [
    {
     "data": {
      "text/plain": [
       "<AxesSubplot:title={'center':'Boston Availability'}>"
      ]
     },
     "execution_count": 119,
     "metadata": {},
     "output_type": "execute_result"
    },
    {
     "data": {
      "image/png": "[encoded data removed]",
      "text/plain": [
       "<Figure size 432x288 with 1 Axes>"
      ]
     },
     "metadata": {
      "needs_background": "light"
     },
     "output_type": "display_data"
    }
   ],
   "source": [
    "# Visualizing Boston's availability\n",
    "boston_data['available'].value_counts().plot(kind='bar', \n",
    "                                     title='Boston Availability')"
   ]
  },
  {
   "cell_type": "markdown",
   "metadata": {},
   "source": [
    "### 3. Analyzing Availability based on months of the year"
   ]
  },
  {
   "cell_type": "code",
   "execution_count": 120,
   "metadata": {},
   "outputs": [],
   "source": [
    "seattle_available = seattle_data.loc[seattle_data['available'] == 't'].dropna()\n",
    "boston_available = boston_data.loc[boston_data['available'] == 't'].dropna()"
   ]
  },
  {
   "cell_type": "markdown",
   "metadata": {},
   "source": [
    "Now we will need to reformat the string date to an actual datetime date with only YYYY-MM format to analyze"
   ]
  },
  {
   "cell_type": "code",
   "execution_count": 121,
   "metadata": {},
   "outputs": [
    {
     "data": {
      "text/plain": [
       "2016-12    87061\n",
       "2016-03    83938\n",
       "2016-10    82438\n",
       "2016-11    81780\n",
       "2016-05    79971\n",
       "2016-09    77246\n",
       "2016-06    77244\n",
       "2016-08    76347\n",
       "2016-04    76037\n",
       "2016-07    74222\n",
       "2016-02    73321\n",
       "2016-01    59239\n",
       "2017-01     5698\n",
       "Name: date_YYYY_MM, dtype: int64"
      ]
     },
     "execution_count": 121,
     "metadata": {},
     "output_type": "execute_result"
    }
   ],
   "source": [
    "seattle_available['date_YYYY_MM'] = pd.to_datetime(seattle_available['date'], format='%Y-%m').dt.strftime('%Y-%m')\n",
    "\n",
    "seattle_available['date_YYYY_MM'].value_counts()"
   ]
  },
  {
   "cell_type": "code",
   "execution_count": 122,
   "metadata": {},
   "outputs": [
    {
     "data": {
      "text/plain": [
       "<AxesSubplot:title={'center':'Seattle Availability'}>"
      ]
     },
     "execution_count": 122,
     "metadata": {},
     "output_type": "execute_result"
    },
    {
     "data": {
      "image/png": "[encoded data removed]",
      "text/plain": [
       "<Figure size 432x288 with 1 Axes>"
      ]
     },
     "metadata": {
      "needs_background": "light"
     },
     "output_type": "display_data"
    }
   ],
   "source": [
    "seattle_available['date_YYYY_MM'].value_counts().plot(kind='bar', title='Seattle Availability')"
   ]
  },
  {
   "cell_type": "code",
   "execution_count": 123,
   "metadata": {},
   "outputs": [
    {
     "data": {
      "text/plain": [
       "2017-01    63181\n",
       "2016-12    60997\n",
       "2016-11    58888\n",
       "2017-02    56810\n",
       "2017-08    55561\n",
       "2017-03    55181\n",
       "2017-07    54963\n",
       "2017-05    53600\n",
       "2017-06    52731\n",
       "2017-04    51382\n",
       "2016-10    46345\n",
       "2016-09    24401\n",
       "2017-09     8997\n",
       "Name: date_YYYY_MM, dtype: int64"
      ]
     },
     "execution_count": 123,
     "metadata": {},
     "output_type": "execute_result"
    }
   ],
   "source": [
    "boston_available['date_YYYY_MM'] = pd.to_datetime(boston_available['date'], format='%Y-%m').dt.strftime('%Y-%m')\n",
    "\n",
    "boston_available['date_YYYY_MM'].value_counts()"
   ]
  },
  {
   "cell_type": "code",
   "execution_count": 124,
   "metadata": {},
   "outputs": [
    {
     "data": {
      "text/plain": [
       "<AxesSubplot:title={'center':'Boston Availability'}>"
      ]
     },
     "execution_count": 124,
     "metadata": {},
     "output_type": "execute_result"
    },
    {
     "data": {
      "image/png": "[encoded data removed]",
      "text/plain": [
       "<Figure size 432x288 with 1 Axes>"
      ]
     },
     "metadata": {
      "needs_background": "light"
     },
     "output_type": "display_data"
    }
   ],
   "source": [
    "boston_available['date_YYYY_MM'].value_counts().plot(kind='bar', title='Boston Availability')"
   ]
  },
  {
   "cell_type": "markdown",
   "metadata": {},
   "source": [
    "### Conclusion\n",
    "\n",
    "This notebook contains the analysis of Airbnb housing in Seattle and Boston areas. The answers of the 3 questions asked at the start of the notebook are:\n",
    "1. Boston in general has higher prices than Seattle. The average difference is around 55\\\\$. While the maximum price shows a huge difference (1650\\\\$ in Seattle vs 7163\\\\$ in Boston)\n",
    "2. In general Boston has more availability, around 50%, while the availability in Seattle is around 33%\n",
    "3. Disregarding the January month of 2017 which might be an outlier with less data, we can conclude that at all time of the years there is more housing availability in Seattle, and in both Seattle and Boston, the availability goes down in a small percentage moving forward into the year."
   ]
  }
 ],
 "metadata": {
  "kernelspec": {
   "display_name": "Python 3",
   "language": "python",
   "name": "python3"
  },
  "language_info": {
   "codemirror_mode": {
    "name": "ipython",
    "version": 3
   },
   "file_extension": ".py",
   "mimetype": "text/x-python",
   "name": "python",
   "nbconvert_exporter": "python",
   "pygments_lexer": "ipython3",
   "version": "3.9.0"
  }
 },
 "nbformat": 4,
 "nbformat_minor": 2
}
