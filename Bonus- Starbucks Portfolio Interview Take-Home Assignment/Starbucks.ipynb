{
 "cells": [
  {
   "cell_type": "markdown",
   "id": "665d6ce3",
   "metadata": {},
   "source": [
    "# 1- Business Understanding\n",
    "\n",
    "The aim of this notebook is to create a model that will be able to find out which users might buy a product after seeing a promotion, have a targeted marketing campain, and thus, make more profits.\n",
    "\n",
    "We will explore 2 approaches with different sampling techniques:\n",
    "1. Logistic Regression \n",
    "2. Uplift modeling\n",
    "\n",
    "We will be exploiting the Data provided by Starbucks in one of their take-home assignment for their job candidates."
   ]
  },
  {
   "cell_type": "markdown",
   "id": "dee0ff67",
   "metadata": {},
   "source": [
    "## Assumptions\n",
    "\n",
    "- Although a single individual could be represented by multiple data points, for simplicity, we will assume that each data point represents a single individual.\n"
   ]
  },
  {
   "cell_type": "markdown",
   "id": "3328583d",
   "metadata": {},
   "source": [
    "## Loading the data and packages"
   ]
  },
  {
   "cell_type": "code",
   "execution_count": 1,
   "id": "fa893301",
   "metadata": {},
   "outputs": [],
   "source": [
    "# load the packages\n",
    "from itertools import combinations\n",
    "\n",
    "from driver.get_results import test_results, score\n",
    "from driver.utils import promotion_strategy\n",
    "import numpy as np\n",
    "import pandas as pd\n",
    "import scipy as sp\n",
    "import sklearn as sk\n",
    "from sklearn.model_selection import train_test_split\n",
    "from sklearn.linear_model import LogisticRegression\n",
    "\n",
    "from sklearn.metrics import confusion_matrix, precision_score, recall_score, accuracy_score\n",
    "from statsmodels.stats.power import NormalIndPower\n",
    "from statsmodels.stats.proportion import proportion_effectsize\n",
    "from imblearn.over_sampling import SMOTE\n",
    "import xgboost as xgb\n",
    "\n",
    "\n",
    "import matplotlib.pyplot as plt\n",
    "import seaborn as sb\n",
    "%matplotlib inline"
   ]
  },
  {
   "cell_type": "markdown",
   "id": "c3927ee8",
   "metadata": {},
   "source": [
    "train and test data are split into 2:1 and provided by Starbucks"
   ]
  },
  {
   "cell_type": "markdown",
   "id": "145e2a80",
   "metadata": {},
   "source": [
    "# 2- Data Understanding"
   ]
  },
  {
   "cell_type": "code",
   "execution_count": 2,
   "id": "76f5d2b7",
   "metadata": {},
   "outputs": [
    {
     "data": {
      "text/html": [
       "<div>\n",
       "<style scoped>\n",
       "    .dataframe tbody tr th:only-of-type {\n",
       "        vertical-align: middle;\n",
       "    }\n",
       "\n",
       "    .dataframe tbody tr th {\n",
       "        vertical-align: top;\n",
       "    }\n",
       "\n",
       "    .dataframe thead th {\n",
       "        text-align: right;\n",
       "    }\n",
       "</style>\n",
       "<table border=\"1\" class=\"dataframe\">\n",
       "  <thead>\n",
       "    <tr style=\"text-align: right;\">\n",
       "      <th></th>\n",
       "      <th>ID</th>\n",
       "      <th>Promotion</th>\n",
       "      <th>purchase</th>\n",
       "      <th>V1</th>\n",
       "      <th>V2</th>\n",
       "      <th>V3</th>\n",
       "      <th>V4</th>\n",
       "      <th>V5</th>\n",
       "      <th>V6</th>\n",
       "      <th>V7</th>\n",
       "    </tr>\n",
       "  </thead>\n",
       "  <tbody>\n",
       "    <tr>\n",
       "      <th>0</th>\n",
       "      <td>1</td>\n",
       "      <td>No</td>\n",
       "      <td>0</td>\n",
       "      <td>2</td>\n",
       "      <td>30.443518</td>\n",
       "      <td>-1.165083</td>\n",
       "      <td>1</td>\n",
       "      <td>1</td>\n",
       "      <td>3</td>\n",
       "      <td>2</td>\n",
       "    </tr>\n",
       "    <tr>\n",
       "      <th>1</th>\n",
       "      <td>3</td>\n",
       "      <td>No</td>\n",
       "      <td>0</td>\n",
       "      <td>3</td>\n",
       "      <td>32.159350</td>\n",
       "      <td>-0.645617</td>\n",
       "      <td>2</td>\n",
       "      <td>3</td>\n",
       "      <td>2</td>\n",
       "      <td>2</td>\n",
       "    </tr>\n",
       "    <tr>\n",
       "      <th>2</th>\n",
       "      <td>4</td>\n",
       "      <td>No</td>\n",
       "      <td>0</td>\n",
       "      <td>2</td>\n",
       "      <td>30.431659</td>\n",
       "      <td>0.133583</td>\n",
       "      <td>1</td>\n",
       "      <td>1</td>\n",
       "      <td>4</td>\n",
       "      <td>2</td>\n",
       "    </tr>\n",
       "    <tr>\n",
       "      <th>3</th>\n",
       "      <td>5</td>\n",
       "      <td>No</td>\n",
       "      <td>0</td>\n",
       "      <td>0</td>\n",
       "      <td>26.588914</td>\n",
       "      <td>-0.212728</td>\n",
       "      <td>2</td>\n",
       "      <td>1</td>\n",
       "      <td>4</td>\n",
       "      <td>2</td>\n",
       "    </tr>\n",
       "    <tr>\n",
       "      <th>4</th>\n",
       "      <td>8</td>\n",
       "      <td>Yes</td>\n",
       "      <td>0</td>\n",
       "      <td>3</td>\n",
       "      <td>28.044331</td>\n",
       "      <td>-0.385883</td>\n",
       "      <td>1</td>\n",
       "      <td>1</td>\n",
       "      <td>2</td>\n",
       "      <td>2</td>\n",
       "    </tr>\n",
       "  </tbody>\n",
       "</table>\n",
       "</div>"
      ],
      "text/plain": [
       "   ID Promotion  purchase  V1         V2        V3  V4  V5  V6  V7\n",
       "0   1        No         0   2  30.443518 -1.165083   1   1   3   2\n",
       "1   3        No         0   3  32.159350 -0.645617   2   3   2   2\n",
       "2   4        No         0   2  30.431659  0.133583   1   1   4   2\n",
       "3   5        No         0   0  26.588914 -0.212728   2   1   4   2\n",
       "4   8       Yes         0   3  28.044331 -0.385883   1   1   2   2"
      ]
     },
     "execution_count": 2,
     "metadata": {},
     "output_type": "execute_result"
    }
   ],
   "source": [
    "# load the train data\n",
    "train_data = pd.read_csv('./data/Training.csv')\n",
    "train_data.head()"
   ]
  },
  {
   "cell_type": "code",
   "execution_count": 3,
   "id": "41fbc1bb",
   "metadata": {},
   "outputs": [
    {
     "data": {
      "text/html": [
       "<div>\n",
       "<style scoped>\n",
       "    .dataframe tbody tr th:only-of-type {\n",
       "        vertical-align: middle;\n",
       "    }\n",
       "\n",
       "    .dataframe tbody tr th {\n",
       "        vertical-align: top;\n",
       "    }\n",
       "\n",
       "    .dataframe thead th {\n",
       "        text-align: right;\n",
       "    }\n",
       "</style>\n",
       "<table border=\"1\" class=\"dataframe\">\n",
       "  <thead>\n",
       "    <tr style=\"text-align: right;\">\n",
       "      <th></th>\n",
       "      <th>ID</th>\n",
       "      <th>Promotion</th>\n",
       "      <th>purchase</th>\n",
       "      <th>V1</th>\n",
       "      <th>V2</th>\n",
       "      <th>V3</th>\n",
       "      <th>V4</th>\n",
       "      <th>V5</th>\n",
       "      <th>V6</th>\n",
       "      <th>V7</th>\n",
       "    </tr>\n",
       "  </thead>\n",
       "  <tbody>\n",
       "    <tr>\n",
       "      <th>0</th>\n",
       "      <td>2</td>\n",
       "      <td>No</td>\n",
       "      <td>0</td>\n",
       "      <td>1</td>\n",
       "      <td>41.376390</td>\n",
       "      <td>1.172517</td>\n",
       "      <td>1</td>\n",
       "      <td>1</td>\n",
       "      <td>2</td>\n",
       "      <td>2</td>\n",
       "    </tr>\n",
       "    <tr>\n",
       "      <th>1</th>\n",
       "      <td>6</td>\n",
       "      <td>Yes</td>\n",
       "      <td>0</td>\n",
       "      <td>1</td>\n",
       "      <td>25.163598</td>\n",
       "      <td>0.653050</td>\n",
       "      <td>2</td>\n",
       "      <td>2</td>\n",
       "      <td>2</td>\n",
       "      <td>2</td>\n",
       "    </tr>\n",
       "    <tr>\n",
       "      <th>2</th>\n",
       "      <td>7</td>\n",
       "      <td>Yes</td>\n",
       "      <td>0</td>\n",
       "      <td>1</td>\n",
       "      <td>26.553778</td>\n",
       "      <td>-1.597972</td>\n",
       "      <td>2</td>\n",
       "      <td>3</td>\n",
       "      <td>4</td>\n",
       "      <td>2</td>\n",
       "    </tr>\n",
       "    <tr>\n",
       "      <th>3</th>\n",
       "      <td>10</td>\n",
       "      <td>No</td>\n",
       "      <td>0</td>\n",
       "      <td>2</td>\n",
       "      <td>28.529691</td>\n",
       "      <td>-1.078506</td>\n",
       "      <td>2</td>\n",
       "      <td>3</td>\n",
       "      <td>2</td>\n",
       "      <td>2</td>\n",
       "    </tr>\n",
       "    <tr>\n",
       "      <th>4</th>\n",
       "      <td>12</td>\n",
       "      <td>No</td>\n",
       "      <td>0</td>\n",
       "      <td>2</td>\n",
       "      <td>32.378538</td>\n",
       "      <td>0.479895</td>\n",
       "      <td>2</td>\n",
       "      <td>2</td>\n",
       "      <td>1</td>\n",
       "      <td>2</td>\n",
       "    </tr>\n",
       "  </tbody>\n",
       "</table>\n",
       "</div>"
      ],
      "text/plain": [
       "   ID Promotion  purchase  V1         V2        V3  V4  V5  V6  V7\n",
       "0   2        No         0   1  41.376390  1.172517   1   1   2   2\n",
       "1   6       Yes         0   1  25.163598  0.653050   2   2   2   2\n",
       "2   7       Yes         0   1  26.553778 -1.597972   2   3   4   2\n",
       "3  10        No         0   2  28.529691 -1.078506   2   3   2   2\n",
       "4  12        No         0   2  32.378538  0.479895   2   2   1   2"
      ]
     },
     "execution_count": 3,
     "metadata": {},
     "output_type": "execute_result"
    }
   ],
   "source": [
    "# load the test data\n",
    "test_data = pd.read_csv('./data/Test.csv')\n",
    "test_data.head()"
   ]
  },
  {
   "cell_type": "markdown",
   "id": "e8f6976d",
   "metadata": {},
   "source": [
    "---\n",
    "Get Statistics and types of the data"
   ]
  },
  {
   "cell_type": "code",
   "execution_count": 4,
   "id": "7c22e495",
   "metadata": {},
   "outputs": [
    {
     "data": {
      "text/plain": [
       "(84534, 10)"
      ]
     },
     "execution_count": 4,
     "metadata": {},
     "output_type": "execute_result"
    }
   ],
   "source": [
    "train_data.shape\n",
    "#test_data.shape"
   ]
  },
  {
   "cell_type": "code",
   "execution_count": 5,
   "id": "11abd61f",
   "metadata": {},
   "outputs": [
    {
     "data": {
      "text/html": [
       "<div>\n",
       "<style scoped>\n",
       "    .dataframe tbody tr th:only-of-type {\n",
       "        vertical-align: middle;\n",
       "    }\n",
       "\n",
       "    .dataframe tbody tr th {\n",
       "        vertical-align: top;\n",
       "    }\n",
       "\n",
       "    .dataframe thead th {\n",
       "        text-align: right;\n",
       "    }\n",
       "</style>\n",
       "<table border=\"1\" class=\"dataframe\">\n",
       "  <thead>\n",
       "    <tr style=\"text-align: right;\">\n",
       "      <th></th>\n",
       "      <th>ID</th>\n",
       "      <th>purchase</th>\n",
       "      <th>V1</th>\n",
       "      <th>V2</th>\n",
       "      <th>V3</th>\n",
       "      <th>V4</th>\n",
       "      <th>V5</th>\n",
       "      <th>V6</th>\n",
       "      <th>V7</th>\n",
       "    </tr>\n",
       "  </thead>\n",
       "  <tbody>\n",
       "    <tr>\n",
       "      <th>count</th>\n",
       "      <td>84534.000000</td>\n",
       "      <td>84534.000000</td>\n",
       "      <td>84534.000000</td>\n",
       "      <td>84534.000000</td>\n",
       "      <td>84534.000000</td>\n",
       "      <td>84534.000000</td>\n",
       "      <td>84534.000000</td>\n",
       "      <td>84534.000000</td>\n",
       "      <td>84534.000000</td>\n",
       "    </tr>\n",
       "    <tr>\n",
       "      <th>mean</th>\n",
       "      <td>62970.972413</td>\n",
       "      <td>0.012303</td>\n",
       "      <td>1.500662</td>\n",
       "      <td>29.973600</td>\n",
       "      <td>0.000190</td>\n",
       "      <td>1.679608</td>\n",
       "      <td>2.327643</td>\n",
       "      <td>2.502898</td>\n",
       "      <td>1.701694</td>\n",
       "    </tr>\n",
       "    <tr>\n",
       "      <th>std</th>\n",
       "      <td>36418.440539</td>\n",
       "      <td>0.110234</td>\n",
       "      <td>0.868234</td>\n",
       "      <td>5.010626</td>\n",
       "      <td>1.000485</td>\n",
       "      <td>0.466630</td>\n",
       "      <td>0.841167</td>\n",
       "      <td>1.117349</td>\n",
       "      <td>0.457517</td>\n",
       "    </tr>\n",
       "    <tr>\n",
       "      <th>min</th>\n",
       "      <td>1.000000</td>\n",
       "      <td>0.000000</td>\n",
       "      <td>0.000000</td>\n",
       "      <td>7.104007</td>\n",
       "      <td>-1.684550</td>\n",
       "      <td>1.000000</td>\n",
       "      <td>1.000000</td>\n",
       "      <td>1.000000</td>\n",
       "      <td>1.000000</td>\n",
       "    </tr>\n",
       "    <tr>\n",
       "      <th>25%</th>\n",
       "      <td>31467.250000</td>\n",
       "      <td>0.000000</td>\n",
       "      <td>1.000000</td>\n",
       "      <td>26.591501</td>\n",
       "      <td>-0.905350</td>\n",
       "      <td>1.000000</td>\n",
       "      <td>2.000000</td>\n",
       "      <td>2.000000</td>\n",
       "      <td>1.000000</td>\n",
       "    </tr>\n",
       "    <tr>\n",
       "      <th>50%</th>\n",
       "      <td>62827.500000</td>\n",
       "      <td>0.000000</td>\n",
       "      <td>2.000000</td>\n",
       "      <td>29.979744</td>\n",
       "      <td>-0.039572</td>\n",
       "      <td>2.000000</td>\n",
       "      <td>2.000000</td>\n",
       "      <td>3.000000</td>\n",
       "      <td>2.000000</td>\n",
       "    </tr>\n",
       "    <tr>\n",
       "      <th>75%</th>\n",
       "      <td>94438.750000</td>\n",
       "      <td>0.000000</td>\n",
       "      <td>2.000000</td>\n",
       "      <td>33.344593</td>\n",
       "      <td>0.826206</td>\n",
       "      <td>2.000000</td>\n",
       "      <td>3.000000</td>\n",
       "      <td>4.000000</td>\n",
       "      <td>2.000000</td>\n",
       "    </tr>\n",
       "    <tr>\n",
       "      <th>max</th>\n",
       "      <td>126184.000000</td>\n",
       "      <td>1.000000</td>\n",
       "      <td>3.000000</td>\n",
       "      <td>50.375913</td>\n",
       "      <td>1.691984</td>\n",
       "      <td>2.000000</td>\n",
       "      <td>4.000000</td>\n",
       "      <td>4.000000</td>\n",
       "      <td>2.000000</td>\n",
       "    </tr>\n",
       "  </tbody>\n",
       "</table>\n",
       "</div>"
      ],
      "text/plain": [
       "                  ID      purchase            V1            V2            V3  \\\n",
       "count   84534.000000  84534.000000  84534.000000  84534.000000  84534.000000   \n",
       "mean    62970.972413      0.012303      1.500662     29.973600      0.000190   \n",
       "std     36418.440539      0.110234      0.868234      5.010626      1.000485   \n",
       "min         1.000000      0.000000      0.000000      7.104007     -1.684550   \n",
       "25%     31467.250000      0.000000      1.000000     26.591501     -0.905350   \n",
       "50%     62827.500000      0.000000      2.000000     29.979744     -0.039572   \n",
       "75%     94438.750000      0.000000      2.000000     33.344593      0.826206   \n",
       "max    126184.000000      1.000000      3.000000     50.375913      1.691984   \n",
       "\n",
       "                 V4            V5            V6            V7  \n",
       "count  84534.000000  84534.000000  84534.000000  84534.000000  \n",
       "mean       1.679608      2.327643      2.502898      1.701694  \n",
       "std        0.466630      0.841167      1.117349      0.457517  \n",
       "min        1.000000      1.000000      1.000000      1.000000  \n",
       "25%        1.000000      2.000000      2.000000      1.000000  \n",
       "50%        2.000000      2.000000      3.000000      2.000000  \n",
       "75%        2.000000      3.000000      4.000000      2.000000  \n",
       "max        2.000000      4.000000      4.000000      2.000000  "
      ]
     },
     "execution_count": 5,
     "metadata": {},
     "output_type": "execute_result"
    }
   ],
   "source": [
    "train_data.describe()\n",
    "# test_data.describe()"
   ]
  },
  {
   "cell_type": "code",
   "execution_count": 6,
   "id": "31831677",
   "metadata": {},
   "outputs": [
    {
     "data": {
      "text/plain": [
       "ID             int64\n",
       "Promotion     object\n",
       "purchase       int64\n",
       "V1             int64\n",
       "V2           float64\n",
       "V3           float64\n",
       "V4             int64\n",
       "V5             int64\n",
       "V6             int64\n",
       "V7             int64\n",
       "dtype: object"
      ]
     },
     "execution_count": 6,
     "metadata": {},
     "output_type": "execute_result"
    }
   ],
   "source": [
    "train_data.dtypes\n",
    "# test_data.dtypes"
   ]
  },
  {
   "cell_type": "markdown",
   "id": "4cbe4a63",
   "metadata": {},
   "source": [
    "---\n",
    "Check for missing values"
   ]
  },
  {
   "cell_type": "code",
   "execution_count": 7,
   "id": "2e769ac4",
   "metadata": {},
   "outputs": [
    {
     "data": {
      "text/plain": [
       "ID           0\n",
       "Promotion    0\n",
       "purchase     0\n",
       "V1           0\n",
       "V2           0\n",
       "V3           0\n",
       "V4           0\n",
       "V5           0\n",
       "V6           0\n",
       "V7           0\n",
       "dtype: int64"
      ]
     },
     "execution_count": 7,
     "metadata": {},
     "output_type": "execute_result"
    }
   ],
   "source": [
    "train_data.isnull().sum()\n",
    "# test_data.isnull().sum()"
   ]
  },
  {
   "cell_type": "markdown",
   "id": "6e16866d",
   "metadata": {},
   "source": [
    "Checking the promotion values"
   ]
  },
  {
   "cell_type": "code",
   "execution_count": 8,
   "id": "b8ab46e2",
   "metadata": {},
   "outputs": [
    {
     "data": {
      "text/plain": [
       "(Yes    42364\n",
       " No     42170\n",
       " Name: Promotion, dtype: int64,\n",
       " Yes    0.501147\n",
       " No     0.498853\n",
       " Name: Promotion, dtype: float64)"
      ]
     },
     "execution_count": 8,
     "metadata": {},
     "output_type": "execute_result"
    }
   ],
   "source": [
    "train_promotion = train_data['Promotion'].value_counts()\n",
    "train_promotion_rate = train_promotion/train_data.shape[0]\n",
    "train_promotion, train_promotion_rate"
   ]
  },
  {
   "cell_type": "markdown",
   "id": "6f06e3d9",
   "metadata": {},
   "source": [
    "Checking the purchase values"
   ]
  },
  {
   "cell_type": "code",
   "execution_count": 9,
   "id": "7b6e8c7a",
   "metadata": {},
   "outputs": [
    {
     "data": {
      "text/plain": [
       "(0    83494\n",
       " 1     1040\n",
       " Name: purchase, dtype: int64,\n",
       " 0    0.987697\n",
       " 1    0.012303\n",
       " Name: purchase, dtype: float64,\n",
       " 80.2826923076923)"
      ]
     },
     "execution_count": 9,
     "metadata": {},
     "output_type": "execute_result"
    }
   ],
   "source": [
    "train_purchase = train_data['purchase'].value_counts()\n",
    "train_purchase_rate = train_purchase/train_data.shape[0]\n",
    "train_purchase, train_purchase_rate, train_purchase[0]/train_purchase[1]"
   ]
  },
  {
   "cell_type": "markdown",
   "id": "32ef6b3a",
   "metadata": {},
   "source": [
    "**It is important to note that there is a huge imbalance between the number of data points that did not purchase vs number of data points that did purchase (80.3 times)**\n",
    "\n",
    "If we do not account/handle these imbalances the model is most likely to predict all the data points to make no purchase."
   ]
  },
  {
   "cell_type": "markdown",
   "id": "f5a15d8f",
   "metadata": {},
   "source": [
    "---\n",
    "### Exploring the features V1 --> V7"
   ]
  },
  {
   "cell_type": "code",
   "execution_count": 10,
   "id": "32f04a76",
   "metadata": {},
   "outputs": [],
   "source": [
    "# put the features in a list to draw their plots\n",
    "features = ['V1', 'V2', 'V3', 'V4', 'V5', 'V6', 'V7']"
   ]
  },
  {
   "cell_type": "code",
   "execution_count": 11,
   "id": "bfa049f7",
   "metadata": {},
   "outputs": [
    {
     "data": {
      "image/png": "[encoded data removed]",
      "text/plain": [
       "<Figure size 1080x1080 with 9 Axes>"
      ]
     },
     "metadata": {
      "needs_background": "light"
     },
     "output_type": "display_data"
    }
   ],
   "source": [
    "train_data[(train_data['Promotion']=='Yes') & (train_data['purchase']==1)][features].hist(figsize=(15,15))\n",
    "plt.suptitle('Train Data - Features of Data Points that got the promotion and did purchase', fontsize=16);\n",
    "\n",
    "# test_data[(test_data['Promotion']=='Yes') & (test_data['purchase']==1)][features].hist(figsize=(15,15))\n",
    "# plt.suptitle('Test Data - Features of Data Points that got the promotion and did purchase', fontsize=16);"
   ]
  },
  {
   "cell_type": "code",
   "execution_count": 12,
   "id": "183aa21e",
   "metadata": {},
   "outputs": [
    {
     "data": {
      "image/png": "[encoded data removed]",
      "text/plain": [
       "<Figure size 1080x1080 with 9 Axes>"
      ]
     },
     "metadata": {
      "needs_background": "light"
     },
     "output_type": "display_data"
    }
   ],
   "source": [
    "train_data[(train_data['Promotion']=='Yes') & (train_data['purchase']==0)][features].hist(figsize=(15,15))\n",
    "plt.suptitle('Train Data - Features of Data Points that got the promotion but did not purchase', fontsize=16);\n",
    "\n",
    "# test_data[(test_data['Promotion']=='Yes') & (test_data['purchase']==0)][features].hist(figsize=(15,15))\n",
    "# plt.suptitle('Test Data - Features of Data Points that got the promotion but did not purchase', fontsize=16);"
   ]
  },
  {
   "cell_type": "code",
   "execution_count": 13,
   "id": "d255ca80",
   "metadata": {},
   "outputs": [
    {
     "data": {
      "image/png": "[encoded data removed]",
      "text/plain": [
       "<Figure size 1080x1080 with 9 Axes>"
      ]
     },
     "metadata": {
      "needs_background": "light"
     },
     "output_type": "display_data"
    }
   ],
   "source": [
    "train_data[(train_data['Promotion']=='No') & (train_data['purchase']==1)][features].hist(figsize=(15,15))\n",
    "plt.suptitle('Train Data - Features of Data Points that did not get the promotion but did purchase', fontsize=16);\n",
    "\n",
    "# test_data[(test_data['Promotion']=='No') & (test_data['purchase']==1)][features].hist(figsize=(15,15))\n",
    "# plt.suptitle('Test Data - Features of Data Points that did not get the promotion but did purchase', fontsize=16);"
   ]
  },
  {
   "cell_type": "code",
   "execution_count": 14,
   "id": "24fd20cb",
   "metadata": {},
   "outputs": [
    {
     "data": {
      "image/png": "[encoded data removed]",
      "text/plain": [
       "<Figure size 1080x1080 with 9 Axes>"
      ]
     },
     "metadata": {
      "needs_background": "light"
     },
     "output_type": "display_data"
    }
   ],
   "source": [
    "train_data[(train_data['Promotion']=='No') & (train_data['purchase']==0)][features].hist(figsize=(15,15))\n",
    "plt.suptitle('Train Data - Features of Data Points that did not get the promotion and did not purchase', fontsize=16);\n",
    "\n",
    "# test_data[(test_data['Promotion']=='No') & (test_data['purchase']==0)][features].hist(figsize=(15,15))\n",
    "# plt.suptitle('Test Data - Features of Data Points that did not get the promotion and did not purchase', fontsize=16);"
   ]
  },
  {
   "cell_type": "markdown",
   "id": "b42c36aa",
   "metadata": {},
   "source": [
    "### What if we were to send the promotion to everyone?"
   ]
  },
  {
   "cell_type": "code",
   "execution_count": 15,
   "id": "d9f1f281",
   "metadata": {},
   "outputs": [
    {
     "name": "stdout",
     "output_type": "stream",
     "text": [
      "Nice job!  See how well your strategy worked on our test data below!\n",
      "\n",
      "Your irr with this strategy is 0.0096.\n",
      "\n",
      "Your nir with this strategy is -1132.20.\n",
      "We came up with a model with an irr of 0.0188 and an nir of 189.45 on the test set.\n",
      "\n",
      " How did you do?\n"
     ]
    },
    {
     "data": {
      "text/plain": [
       "(0.009593158278250108, -1132.1999999999998)"
      ]
     },
     "execution_count": 15,
     "metadata": {},
     "output_type": "execute_result"
    }
   ],
   "source": [
    "test_results(promotion_strategy, 'all_purchase')"
   ]
  },
  {
   "cell_type": "markdown",
   "id": "522c91d8",
   "metadata": {},
   "source": [
    "By sending everyone a promotion, the IRR = 0.96% and NIR = -1132.2$ \n",
    "\n",
    "The above numbers clearly show that an optimization strategy is needed to win the company money instead of losing in this promotion campain and get better IRR results."
   ]
  },
  {
   "cell_type": "markdown",
   "id": "423abee5",
   "metadata": {},
   "source": [
    "# 3- Data Preparation"
   ]
  },
  {
   "cell_type": "code",
   "execution_count": 16,
   "id": "97bfa8c9",
   "metadata": {},
   "outputs": [
    {
     "data": {
      "text/plain": [
       "(83494, 10)"
      ]
     },
     "execution_count": 16,
     "metadata": {},
     "output_type": "execute_result"
    }
   ],
   "source": [
    "train_no_purch = train_data.loc[train_data['purchase'] == 0]\n",
    "train_no_purch.shape"
   ]
  },
  {
   "cell_type": "code",
   "execution_count": 17,
   "id": "8c39768c",
   "metadata": {},
   "outputs": [
    {
     "data": {
      "text/plain": [
       "(1040, 10)"
      ]
     },
     "execution_count": 17,
     "metadata": {},
     "output_type": "execute_result"
    }
   ],
   "source": [
    "train_purch = train_data.loc[train_data['purchase'] == 1]\n",
    "train_purch.shape"
   ]
  },
  {
   "cell_type": "code",
   "execution_count": 18,
   "id": "98106144",
   "metadata": {},
   "outputs": [
    {
     "data": {
      "text/plain": [
       "(1040, 10)"
      ]
     },
     "execution_count": 18,
     "metadata": {},
     "output_type": "execute_result"
    }
   ],
   "source": [
    "# Randomly sample 1040 rows from not purchased dataset\n",
    "train_no_purch_sampled = train_no_purch.sample(n=1040)\n",
    "\n",
    "train_no_purch_sampled.shape"
   ]
  },
  {
   "cell_type": "code",
   "execution_count": 19,
   "id": "7fdb95be",
   "metadata": {},
   "outputs": [
    {
     "data": {
      "text/html": [
       "<div>\n",
       "<style scoped>\n",
       "    .dataframe tbody tr th:only-of-type {\n",
       "        vertical-align: middle;\n",
       "    }\n",
       "\n",
       "    .dataframe tbody tr th {\n",
       "        vertical-align: top;\n",
       "    }\n",
       "\n",
       "    .dataframe thead th {\n",
       "        text-align: right;\n",
       "    }\n",
       "</style>\n",
       "<table border=\"1\" class=\"dataframe\">\n",
       "  <thead>\n",
       "    <tr style=\"text-align: right;\">\n",
       "      <th></th>\n",
       "      <th>ID</th>\n",
       "      <th>Promotion</th>\n",
       "      <th>purchase</th>\n",
       "      <th>V1</th>\n",
       "      <th>V2</th>\n",
       "      <th>V3</th>\n",
       "      <th>V4</th>\n",
       "      <th>V5</th>\n",
       "      <th>V6</th>\n",
       "      <th>V7</th>\n",
       "    </tr>\n",
       "  </thead>\n",
       "  <tbody>\n",
       "    <tr>\n",
       "      <th>84389</th>\n",
       "      <td>125956</td>\n",
       "      <td>No</td>\n",
       "      <td>0</td>\n",
       "      <td>3</td>\n",
       "      <td>28.580870</td>\n",
       "      <td>0.999361</td>\n",
       "      <td>2</td>\n",
       "      <td>1</td>\n",
       "      <td>1</td>\n",
       "      <td>1</td>\n",
       "    </tr>\n",
       "    <tr>\n",
       "      <th>45013</th>\n",
       "      <td>66951</td>\n",
       "      <td>Yes</td>\n",
       "      <td>0</td>\n",
       "      <td>1</td>\n",
       "      <td>30.822849</td>\n",
       "      <td>0.220161</td>\n",
       "      <td>2</td>\n",
       "      <td>3</td>\n",
       "      <td>1</td>\n",
       "      <td>2</td>\n",
       "    </tr>\n",
       "    <tr>\n",
       "      <th>48198</th>\n",
       "      <td>71712</td>\n",
       "      <td>Yes</td>\n",
       "      <td>0</td>\n",
       "      <td>2</td>\n",
       "      <td>33.861156</td>\n",
       "      <td>0.826206</td>\n",
       "      <td>2</td>\n",
       "      <td>3</td>\n",
       "      <td>2</td>\n",
       "      <td>1</td>\n",
       "    </tr>\n",
       "    <tr>\n",
       "      <th>79983</th>\n",
       "      <td>119367</td>\n",
       "      <td>No</td>\n",
       "      <td>0</td>\n",
       "      <td>1</td>\n",
       "      <td>25.791677</td>\n",
       "      <td>1.085939</td>\n",
       "      <td>1</td>\n",
       "      <td>2</td>\n",
       "      <td>2</td>\n",
       "      <td>2</td>\n",
       "    </tr>\n",
       "    <tr>\n",
       "      <th>1645</th>\n",
       "      <td>2449</td>\n",
       "      <td>No</td>\n",
       "      <td>0</td>\n",
       "      <td>2</td>\n",
       "      <td>13.079439</td>\n",
       "      <td>-1.165083</td>\n",
       "      <td>1</td>\n",
       "      <td>1</td>\n",
       "      <td>4</td>\n",
       "      <td>2</td>\n",
       "    </tr>\n",
       "  </tbody>\n",
       "</table>\n",
       "</div>"
      ],
      "text/plain": [
       "           ID Promotion  purchase  V1         V2        V3  V4  V5  V6  V7\n",
       "84389  125956        No         0   3  28.580870  0.999361   2   1   1   1\n",
       "45013   66951       Yes         0   1  30.822849  0.220161   2   3   1   2\n",
       "48198   71712       Yes         0   2  33.861156  0.826206   2   3   2   1\n",
       "79983  119367        No         0   1  25.791677  1.085939   1   2   2   2\n",
       "1645     2449        No         0   2  13.079439 -1.165083   1   1   4   2"
      ]
     },
     "execution_count": 19,
     "metadata": {},
     "output_type": "execute_result"
    }
   ],
   "source": [
    "# new training dataset with half purchased and half not purchased\n",
    "df_train = pd.concat([train_no_purch_sampled, train_purch], axis=0)\n",
    "df_train.head()"
   ]
  },
  {
   "cell_type": "markdown",
   "id": "00f1b47d",
   "metadata": {},
   "source": [
    "---\n",
    "**we can see from the above charts that columns V1, V4, V5, V6, and V7 include categorical variables**\n",
    "Since the splitting the variables will not conclude to a huge amount of column addition, we do not have a scaling problem here and can split each category into a separate column."
   ]
  },
  {
   "cell_type": "code",
   "execution_count": 20,
   "id": "c3ae573d",
   "metadata": {},
   "outputs": [],
   "source": [
    "# split categorical variables into dummy columns\n",
    "df_train = pd.get_dummies(data=df_train, columns=['V1','V4', 'V5','V6','V7'])"
   ]
  },
  {
   "cell_type": "code",
   "execution_count": 21,
   "id": "9bd87b71",
   "metadata": {},
   "outputs": [
    {
     "data": {
      "text/html": [
       "<div>\n",
       "<style scoped>\n",
       "    .dataframe tbody tr th:only-of-type {\n",
       "        vertical-align: middle;\n",
       "    }\n",
       "\n",
       "    .dataframe tbody tr th {\n",
       "        vertical-align: top;\n",
       "    }\n",
       "\n",
       "    .dataframe thead th {\n",
       "        text-align: right;\n",
       "    }\n",
       "</style>\n",
       "<table border=\"1\" class=\"dataframe\">\n",
       "  <thead>\n",
       "    <tr style=\"text-align: right;\">\n",
       "      <th></th>\n",
       "      <th>ID</th>\n",
       "      <th>Promotion</th>\n",
       "      <th>purchase</th>\n",
       "      <th>V2</th>\n",
       "      <th>V3</th>\n",
       "      <th>V1_0</th>\n",
       "      <th>V1_1</th>\n",
       "      <th>V1_2</th>\n",
       "      <th>V1_3</th>\n",
       "      <th>V4_1</th>\n",
       "      <th>...</th>\n",
       "      <th>V5_1</th>\n",
       "      <th>V5_2</th>\n",
       "      <th>V5_3</th>\n",
       "      <th>V5_4</th>\n",
       "      <th>V6_1</th>\n",
       "      <th>V6_2</th>\n",
       "      <th>V6_3</th>\n",
       "      <th>V6_4</th>\n",
       "      <th>V7_1</th>\n",
       "      <th>V7_2</th>\n",
       "    </tr>\n",
       "  </thead>\n",
       "  <tbody>\n",
       "    <tr>\n",
       "      <th>84389</th>\n",
       "      <td>125956</td>\n",
       "      <td>No</td>\n",
       "      <td>0</td>\n",
       "      <td>28.580870</td>\n",
       "      <td>0.999361</td>\n",
       "      <td>0</td>\n",
       "      <td>0</td>\n",
       "      <td>0</td>\n",
       "      <td>1</td>\n",
       "      <td>0</td>\n",
       "      <td>...</td>\n",
       "      <td>1</td>\n",
       "      <td>0</td>\n",
       "      <td>0</td>\n",
       "      <td>0</td>\n",
       "      <td>1</td>\n",
       "      <td>0</td>\n",
       "      <td>0</td>\n",
       "      <td>0</td>\n",
       "      <td>1</td>\n",
       "      <td>0</td>\n",
       "    </tr>\n",
       "    <tr>\n",
       "      <th>45013</th>\n",
       "      <td>66951</td>\n",
       "      <td>Yes</td>\n",
       "      <td>0</td>\n",
       "      <td>30.822849</td>\n",
       "      <td>0.220161</td>\n",
       "      <td>0</td>\n",
       "      <td>1</td>\n",
       "      <td>0</td>\n",
       "      <td>0</td>\n",
       "      <td>0</td>\n",
       "      <td>...</td>\n",
       "      <td>0</td>\n",
       "      <td>0</td>\n",
       "      <td>1</td>\n",
       "      <td>0</td>\n",
       "      <td>1</td>\n",
       "      <td>0</td>\n",
       "      <td>0</td>\n",
       "      <td>0</td>\n",
       "      <td>0</td>\n",
       "      <td>1</td>\n",
       "    </tr>\n",
       "    <tr>\n",
       "      <th>48198</th>\n",
       "      <td>71712</td>\n",
       "      <td>Yes</td>\n",
       "      <td>0</td>\n",
       "      <td>33.861156</td>\n",
       "      <td>0.826206</td>\n",
       "      <td>0</td>\n",
       "      <td>0</td>\n",
       "      <td>1</td>\n",
       "      <td>0</td>\n",
       "      <td>0</td>\n",
       "      <td>...</td>\n",
       "      <td>0</td>\n",
       "      <td>0</td>\n",
       "      <td>1</td>\n",
       "      <td>0</td>\n",
       "      <td>0</td>\n",
       "      <td>1</td>\n",
       "      <td>0</td>\n",
       "      <td>0</td>\n",
       "      <td>1</td>\n",
       "      <td>0</td>\n",
       "    </tr>\n",
       "    <tr>\n",
       "      <th>79983</th>\n",
       "      <td>119367</td>\n",
       "      <td>No</td>\n",
       "      <td>0</td>\n",
       "      <td>25.791677</td>\n",
       "      <td>1.085939</td>\n",
       "      <td>0</td>\n",
       "      <td>1</td>\n",
       "      <td>0</td>\n",
       "      <td>0</td>\n",
       "      <td>1</td>\n",
       "      <td>...</td>\n",
       "      <td>0</td>\n",
       "      <td>1</td>\n",
       "      <td>0</td>\n",
       "      <td>0</td>\n",
       "      <td>0</td>\n",
       "      <td>1</td>\n",
       "      <td>0</td>\n",
       "      <td>0</td>\n",
       "      <td>0</td>\n",
       "      <td>1</td>\n",
       "    </tr>\n",
       "    <tr>\n",
       "      <th>1645</th>\n",
       "      <td>2449</td>\n",
       "      <td>No</td>\n",
       "      <td>0</td>\n",
       "      <td>13.079439</td>\n",
       "      <td>-1.165083</td>\n",
       "      <td>0</td>\n",
       "      <td>0</td>\n",
       "      <td>1</td>\n",
       "      <td>0</td>\n",
       "      <td>1</td>\n",
       "      <td>...</td>\n",
       "      <td>1</td>\n",
       "      <td>0</td>\n",
       "      <td>0</td>\n",
       "      <td>0</td>\n",
       "      <td>0</td>\n",
       "      <td>0</td>\n",
       "      <td>0</td>\n",
       "      <td>1</td>\n",
       "      <td>0</td>\n",
       "      <td>1</td>\n",
       "    </tr>\n",
       "  </tbody>\n",
       "</table>\n",
       "<p>5 rows × 21 columns</p>\n",
       "</div>"
      ],
      "text/plain": [
       "           ID Promotion  purchase         V2        V3  V1_0  V1_1  V1_2  \\\n",
       "84389  125956        No         0  28.580870  0.999361     0     0     0   \n",
       "45013   66951       Yes         0  30.822849  0.220161     0     1     0   \n",
       "48198   71712       Yes         0  33.861156  0.826206     0     0     1   \n",
       "79983  119367        No         0  25.791677  1.085939     0     1     0   \n",
       "1645     2449        No         0  13.079439 -1.165083     0     0     1   \n",
       "\n",
       "       V1_3  V4_1  ...  V5_1  V5_2  V5_3  V5_4  V6_1  V6_2  V6_3  V6_4  V7_1  \\\n",
       "84389     1     0  ...     1     0     0     0     1     0     0     0     1   \n",
       "45013     0     0  ...     0     0     1     0     1     0     0     0     0   \n",
       "48198     0     0  ...     0     0     1     0     0     1     0     0     1   \n",
       "79983     0     1  ...     0     1     0     0     0     1     0     0     0   \n",
       "1645      0     1  ...     1     0     0     0     0     0     0     1     0   \n",
       "\n",
       "       V7_2  \n",
       "84389     0  \n",
       "45013     1  \n",
       "48198     0  \n",
       "79983     1  \n",
       "1645      1  \n",
       "\n",
       "[5 rows x 21 columns]"
      ]
     },
     "execution_count": 21,
     "metadata": {},
     "output_type": "execute_result"
    }
   ],
   "source": [
    "df_train.head()"
   ]
  },
  {
   "cell_type": "code",
   "execution_count": 22,
   "id": "166d9fd4",
   "metadata": {},
   "outputs": [
    {
     "name": "stdout",
     "output_type": "stream",
     "text": [
      "(1456, 18) (1456,)\n",
      "(624, 18) (624,)\n"
     ]
    }
   ],
   "source": [
    "# create training and testing vars\n",
    "x = df_train.loc[:,'V2':] \n",
    "y = df_train['purchase']\n",
    "X_train, X_valid, Y_train, Y_valid = train_test_split(x, y, test_size=0.3, random_state=42)\n",
    "print(X_train.shape, Y_train.shape)\n",
    "print(X_valid.shape, Y_valid.shape)\n"
   ]
  },
  {
   "cell_type": "markdown",
   "id": "e176cfed",
   "metadata": {},
   "source": [
    "# 4- Modeling\n",
    "# Approach 1 - Logistic Regression"
   ]
  },
  {
   "cell_type": "code",
   "execution_count": 23,
   "id": "4ac3acc2",
   "metadata": {},
   "outputs": [
    {
     "data": {
      "text/plain": [
       "array([[167, 151],\n",
       "       [105, 201]])"
      ]
     },
     "execution_count": 23,
     "metadata": {},
     "output_type": "execute_result"
    }
   ],
   "source": [
    "# logistic regression modeling on new training data df_train\n",
    "logistic_model = LogisticRegression()\n",
    "logistic_model.fit(X_train, Y_train)\n",
    "preds = logistic_model.predict(X_valid)\n",
    "confusion_matrix(Y_valid, preds)"
   ]
  },
  {
   "cell_type": "code",
   "execution_count": 24,
   "id": "67808d17",
   "metadata": {},
   "outputs": [
    {
     "data": {
      "text/plain": [
       "0.6568627450980392"
      ]
     },
     "execution_count": 24,
     "metadata": {},
     "output_type": "execute_result"
    }
   ],
   "source": [
    "# precision_score(y_valid, preds)\n",
    "# accuracy_score(y_valid, preds)\n",
    "recall_score(Y_valid, preds)"
   ]
  },
  {
   "cell_type": "code",
   "execution_count": 25,
   "id": "5de198eb",
   "metadata": {},
   "outputs": [
    {
     "data": {
      "image/png": "[encoded data removed]",
      "text/plain": [
       "<Figure size 720x720 with 2 Axes>"
      ]
     },
     "metadata": {
      "needs_background": "light"
     },
     "output_type": "display_data"
    }
   ],
   "source": [
    "fig, ax= plt.subplots(figsize=(10,10))\n",
    "sb.heatmap(confusion_matrix(Y_valid, preds), annot=True, fmt='g', cmap='Blues', ax = ax); \n",
    "ax.set_xlabel('Predicted labels');\n",
    "ax.set_ylabel('True labels'); \n",
    "ax.set_title('Confusion Matrix'); \n",
    "ax.xaxis.set_ticklabels(['No Purchase', 'Made Purchase']); \n",
    "ax.yaxis.set_ticklabels(['No Purchase', 'Made Purchase']);"
   ]
  },
  {
   "cell_type": "code",
   "execution_count": 26,
   "id": "8817c932",
   "metadata": {},
   "outputs": [
    {
     "data": {
      "text/plain": [
       "array(['No', 'Yes', 'No', 'No', 'No', 'Yes', 'Yes', 'No', 'Yes', 'Yes',\n",
       "       'No', 'Yes', 'No', 'No', 'Yes', 'Yes', 'Yes', 'Yes', 'Yes', 'Yes',\n",
       "       'Yes', 'No', 'No', 'No', 'Yes', 'No', 'Yes', 'Yes', 'Yes', 'No',\n",
       "       'Yes', 'Yes', 'No', 'No', 'No', 'No', 'Yes', 'No', 'Yes', 'No',\n",
       "       'No', 'Yes', 'Yes', 'No', 'Yes', 'Yes', 'Yes', 'No', 'Yes', 'Yes',\n",
       "       'No', 'Yes', 'No', 'Yes', 'Yes', 'Yes', 'No', 'No', 'No', 'No',\n",
       "       'Yes', 'No', 'Yes', 'Yes', 'Yes', 'Yes', 'Yes', 'Yes', 'Yes',\n",
       "       'Yes', 'No', 'Yes', 'Yes', 'No', 'No', 'No', 'No', 'Yes', 'Yes',\n",
       "       'Yes', 'No', 'No', 'Yes', 'Yes', 'Yes', 'Yes', 'Yes', 'No', 'No',\n",
       "       'Yes', 'Yes', 'Yes', 'Yes', 'Yes', 'No', 'No', 'Yes', 'No', 'Yes',\n",
       "       'Yes', 'No', 'Yes', 'Yes', 'No', 'Yes', 'Yes', 'No', 'Yes', 'Yes',\n",
       "       'No', 'Yes', 'No', 'No', 'Yes', 'No', 'Yes', 'Yes', 'Yes', 'No',\n",
       "       'No', 'No', 'No', 'Yes', 'Yes', 'Yes', 'No', 'No', 'No', 'Yes',\n",
       "       'Yes', 'No', 'Yes', 'No', 'No', 'Yes', 'No', 'No', 'Yes', 'No',\n",
       "       'No', 'Yes', 'Yes', 'Yes', 'No', 'Yes', 'No', 'No', 'Yes', 'Yes',\n",
       "       'Yes', 'Yes', 'Yes', 'Yes', 'Yes', 'No', 'Yes', 'Yes', 'Yes',\n",
       "       'Yes', 'Yes', 'Yes', 'Yes', 'No', 'No', 'Yes', 'No', 'No', 'Yes',\n",
       "       'Yes', 'No', 'No', 'No', 'No', 'Yes', 'Yes', 'Yes', 'Yes', 'No',\n",
       "       'No', 'Yes', 'No', 'No', 'No', 'Yes', 'No', 'Yes', 'No', 'Yes',\n",
       "       'No', 'Yes', 'No', 'No', 'No', 'Yes', 'Yes', 'No', 'No', 'No',\n",
       "       'Yes', 'Yes', 'Yes', 'Yes', 'No', 'Yes', 'Yes', 'Yes', 'Yes', 'No',\n",
       "       'No', 'Yes', 'Yes', 'Yes', 'Yes', 'Yes', 'No', 'Yes', 'Yes', 'Yes',\n",
       "       'No', 'Yes', 'No', 'Yes', 'No', 'No', 'No', 'No', 'Yes', 'No',\n",
       "       'No', 'Yes', 'Yes', 'Yes', 'Yes', 'No', 'No', 'No', 'No', 'Yes',\n",
       "       'No', 'No', 'Yes', 'Yes', 'Yes', 'Yes', 'No', 'No', 'No', 'No',\n",
       "       'Yes', 'Yes', 'No', 'Yes', 'No', 'Yes', 'No', 'Yes', 'Yes', 'Yes',\n",
       "       'Yes', 'Yes', 'Yes', 'Yes', 'No', 'Yes', 'No', 'Yes', 'No', 'Yes',\n",
       "       'No', 'No', 'No', 'Yes', 'No', 'No', 'Yes', 'Yes', 'Yes', 'No',\n",
       "       'Yes', 'Yes', 'No', 'No', 'Yes', 'No', 'Yes', 'Yes', 'No', 'No',\n",
       "       'Yes', 'No', 'No', 'Yes', 'No', 'Yes', 'No', 'Yes', 'Yes', 'Yes',\n",
       "       'Yes', 'No', 'Yes', 'Yes', 'No', 'Yes', 'No', 'No', 'Yes', 'Yes',\n",
       "       'Yes', 'Yes', 'No', 'Yes', 'No', 'No', 'Yes', 'Yes', 'No', 'Yes',\n",
       "       'No', 'Yes', 'No', 'Yes', 'No', 'No', 'Yes', 'Yes', 'No', 'Yes',\n",
       "       'No', 'Yes', 'Yes', 'Yes', 'No', 'Yes', 'Yes', 'No', 'No', 'No',\n",
       "       'No', 'Yes', 'Yes', 'Yes', 'No', 'No', 'No', 'No', 'Yes', 'No',\n",
       "       'Yes', 'Yes', 'Yes', 'Yes', 'Yes', 'Yes', 'No', 'Yes', 'No', 'Yes',\n",
       "       'Yes', 'Yes', 'No', 'Yes', 'No', 'Yes', 'Yes', 'No', 'No', 'Yes',\n",
       "       'No', 'No', 'Yes', 'Yes', 'Yes', 'Yes', 'No', 'No', 'Yes', 'Yes',\n",
       "       'No', 'Yes', 'Yes', 'No', 'Yes', 'Yes', 'No', 'Yes', 'Yes', 'No',\n",
       "       'Yes', 'No', 'Yes', 'No', 'Yes', 'Yes', 'No', 'Yes', 'Yes', 'No',\n",
       "       'No', 'Yes', 'Yes', 'Yes', 'No', 'Yes', 'No', 'Yes', 'Yes', 'No',\n",
       "       'No', 'No', 'No', 'No', 'No', 'No', 'No', 'No', 'No', 'No', 'Yes',\n",
       "       'Yes', 'Yes', 'Yes', 'Yes', 'Yes', 'Yes', 'Yes', 'No', 'No', 'Yes',\n",
       "       'Yes', 'No', 'No', 'Yes', 'Yes', 'No', 'No', 'Yes', 'No', 'No',\n",
       "       'Yes', 'Yes', 'No', 'No', 'No', 'Yes', 'No', 'No', 'Yes', 'Yes',\n",
       "       'Yes', 'Yes', 'Yes', 'No', 'No', 'Yes', 'No', 'No', 'Yes', 'No',\n",
       "       'No', 'No', 'No', 'No', 'No', 'No', 'Yes', 'Yes', 'No', 'Yes',\n",
       "       'No', 'No', 'Yes', 'No', 'Yes', 'No', 'Yes', 'Yes', 'Yes', 'No',\n",
       "       'Yes', 'Yes', 'No', 'No', 'No', 'Yes', 'Yes', 'Yes', 'Yes', 'No',\n",
       "       'Yes', 'Yes', 'No', 'Yes', 'No', 'Yes', 'Yes', 'Yes', 'No', 'Yes',\n",
       "       'Yes', 'No', 'No', 'Yes', 'Yes', 'Yes', 'Yes', 'No', 'Yes', 'Yes',\n",
       "       'No', 'Yes', 'No', 'Yes', 'Yes', 'Yes', 'Yes', 'Yes', 'Yes', 'Yes',\n",
       "       'Yes', 'No', 'Yes', 'Yes', 'Yes', 'Yes', 'No', 'No', 'Yes', 'No',\n",
       "       'No', 'Yes', 'No', 'No', 'No', 'Yes', 'No', 'Yes', 'Yes', 'Yes',\n",
       "       'Yes', 'Yes', 'Yes', 'No', 'No', 'No', 'Yes', 'Yes', 'Yes', 'No',\n",
       "       'Yes', 'Yes', 'Yes', 'No', 'No', 'No', 'Yes', 'Yes', 'No', 'Yes',\n",
       "       'No', 'Yes', 'No', 'Yes', 'No', 'Yes', 'No', 'Yes', 'No', 'No',\n",
       "       'Yes', 'Yes', 'Yes', 'Yes', 'Yes', 'No', 'No', 'No', 'Yes', 'Yes',\n",
       "       'Yes', 'No', 'Yes', 'No', 'Yes', 'Yes', 'Yes', 'Yes', 'Yes', 'Yes',\n",
       "       'Yes', 'Yes', 'Yes', 'Yes', 'Yes', 'No', 'Yes', 'Yes', 'No', 'Yes',\n",
       "       'No', 'No', 'Yes', 'Yes', 'No', 'No', 'Yes', 'Yes', 'No', 'Yes',\n",
       "       'No', 'No', 'No', 'No', 'Yes', 'Yes', 'No', 'Yes', 'Yes', 'No',\n",
       "       'No', 'Yes', 'Yes', 'No', 'Yes'], dtype='<U3')"
      ]
     },
     "execution_count": 26,
     "metadata": {},
     "output_type": "execute_result"
    }
   ],
   "source": [
    "#transform 0/1 array to Yes/No array\n",
    "my_map = {0: \"No\", 1: \"Yes\"}\n",
    "promotion = np.vectorize(my_map.get)(preds)\n",
    "promotion"
   ]
  },
  {
   "cell_type": "code",
   "execution_count": 27,
   "id": "c9e59c4b",
   "metadata": {},
   "outputs": [
    {
     "name": "stdout",
     "output_type": "stream",
     "text": [
      "Nice job!  See how well your strategy worked on our test data below!\n",
      "\n",
      "Your irr with this strategy is 0.0184.\n",
      "\n",
      "Your nir with this strategy is 310.60.\n",
      "We came up with a model with an irr of 0.0188 and an nir of 189.45 on the test set.\n",
      "\n",
      " How did you do?\n"
     ]
    },
    {
     "data": {
      "text/plain": [
       "(0.01838223923998788, 310.60000000000014)"
      ]
     },
     "execution_count": 27,
     "metadata": {},
     "output_type": "execute_result"
    }
   ],
   "source": [
    "test_results(promotion_strategy,'logistic_regression', model=logistic_model)"
   ]
  },
  {
   "cell_type": "markdown",
   "id": "c0e0faa1",
   "metadata": {},
   "source": [
    "# Approach 2 - Uplift Modeling - XGBoost\n",
    "\n",
    "We will train a predictive model on only the treatment group, in other words the data points that received the promotion. \n",
    "\n",
    "We will split the data into the data points that purchased or did not purchase, then use the SMOTE technique to upsample the minority (purchase) data only on the training set. (which will guarantee equivalent data points for each class) "
   ]
  },
  {
   "cell_type": "code",
   "execution_count": 28,
   "id": "199e6b99",
   "metadata": {},
   "outputs": [],
   "source": [
    "# Data points that made a purchase after receiving a promotion will be assigned a label of 1, \n",
    "# The other Data points will be given a label of 0\n",
    "response = []\n",
    "for index, row in train_data.iterrows():\n",
    "    if (row['purchase'] == 1) and (row['Promotion']=='Yes'):\n",
    "        response.append(1.0)\n",
    "    else:\n",
    "        response.append(0.0)\n",
    "        \n",
    "train_data['response'] = response"
   ]
  },
  {
   "cell_type": "code",
   "execution_count": 29,
   "id": "3f79da2c",
   "metadata": {},
   "outputs": [],
   "source": [
    "train, valid = sk.model_selection.train_test_split(train_data, test_size=0.2,random_state=42)"
   ]
  },
  {
   "cell_type": "code",
   "execution_count": 30,
   "id": "9dfba810",
   "metadata": {},
   "outputs": [],
   "source": [
    "# generate features and labels\n",
    "Y_train = train['response']\n",
    "X_train = train[features] # features is a list containing the features from V1 up to V7\n",
    "\n",
    "Y_valid = valid['response']\n",
    "X_valid = valid[features]"
   ]
  },
  {
   "cell_type": "code",
   "execution_count": 31,
   "id": "10240a5b",
   "metadata": {},
   "outputs": [],
   "source": [
    "# up sample only the train dataset with SMOTE\n",
    "sm = SMOTE(random_state=42, sampling_strategy = 1.0)\n",
    "X_train_upsamp, Y_train_upsamp = sm.fit_resample(X_train, Y_train)\n",
    "    \n",
    "X_train_upsamp = pd.DataFrame(X_train_upsamp, columns=features)\n",
    "Y_train_upsamp = pd.Series(Y_train_upsamp)"
   ]
  },
  {
   "cell_type": "code",
   "execution_count": 32,
   "id": "cd29234f",
   "metadata": {},
   "outputs": [
    {
     "name": "stdout",
     "output_type": "stream",
     "text": [
      "[21:04:42] WARNING: ../src/learner.cc:573: \n",
      "Parameters: { \"silent\" } might not be used.\n",
      "\n",
      "  This may not be accurate due to some parameters are only used in language bindings but\n",
      "  passed down to XGBoost core.  Or some parameters are not used but slip through this\n",
      "  verification. Please open an issue if you find above cases.\n",
      "\n",
      "\n",
      "[0]\tvalidation_0-auc:0.74629\tvalidation_1-auc:0.56087\n"
     ]
    },
    {
     "name": "stderr",
     "output_type": "stream",
     "text": [
      "/home/ubuntu1804/.local/lib/python3.8/site-packages/xgboost/sklearn.py:1146: UserWarning: The use of label encoder in XGBClassifier is deprecated and will be removed in a future release. To remove this warning, do the following: 1) Pass option use_label_encoder=False when constructing XGBClassifier object; and 2) Encode your labels (y) as integers starting with 0, i.e. 0, 1, 2, ..., [num_class - 1].\n",
      "  warnings.warn(label_encoder_deprecation_msg, UserWarning)\n"
     ]
    },
    {
     "name": "stdout",
     "output_type": "stream",
     "text": [
      "[1]\tvalidation_0-auc:0.77346\tvalidation_1-auc:0.56746\n",
      "[2]\tvalidation_0-auc:0.77602\tvalidation_1-auc:0.56480\n",
      "[3]\tvalidation_0-auc:0.77910\tvalidation_1-auc:0.56450\n",
      "[4]\tvalidation_0-auc:0.79753\tvalidation_1-auc:0.55870\n",
      "[5]\tvalidation_0-auc:0.79829\tvalidation_1-auc:0.56814\n",
      "[6]\tvalidation_0-auc:0.81814\tvalidation_1-auc:0.57547\n",
      "[7]\tvalidation_0-auc:0.81955\tvalidation_1-auc:0.57279\n",
      "[8]\tvalidation_0-auc:0.82778\tvalidation_1-auc:0.57008\n",
      "[9]\tvalidation_0-auc:0.83510\tvalidation_1-auc:0.57113\n",
      "[10]\tvalidation_0-auc:0.83852\tvalidation_1-auc:0.57553\n",
      "[11]\tvalidation_0-auc:0.84447\tvalidation_1-auc:0.57453\n",
      "[12]\tvalidation_0-auc:0.84847\tvalidation_1-auc:0.57283\n",
      "[13]\tvalidation_0-auc:0.85196\tvalidation_1-auc:0.57102\n",
      "[14]\tvalidation_0-auc:0.85574\tvalidation_1-auc:0.57142\n",
      "[15]\tvalidation_0-auc:0.86078\tvalidation_1-auc:0.57137\n",
      "[16]\tvalidation_0-auc:0.86716\tvalidation_1-auc:0.57508\n",
      "[17]\tvalidation_0-auc:0.87147\tvalidation_1-auc:0.57475\n",
      "[18]\tvalidation_0-auc:0.87524\tvalidation_1-auc:0.57499\n",
      "[19]\tvalidation_0-auc:0.88175\tvalidation_1-auc:0.57347\n",
      "[20]\tvalidation_0-auc:0.88275\tvalidation_1-auc:0.57269\n",
      "[21]\tvalidation_0-auc:0.88479\tvalidation_1-auc:0.57315\n",
      "[22]\tvalidation_0-auc:0.88652\tvalidation_1-auc:0.57428\n",
      "[23]\tvalidation_0-auc:0.88869\tvalidation_1-auc:0.57424\n",
      "[24]\tvalidation_0-auc:0.89013\tvalidation_1-auc:0.57493\n",
      "[25]\tvalidation_0-auc:0.89417\tvalidation_1-auc:0.57417\n",
      "[26]\tvalidation_0-auc:0.89577\tvalidation_1-auc:0.57368\n",
      "[27]\tvalidation_0-auc:0.89616\tvalidation_1-auc:0.57356\n",
      "[28]\tvalidation_0-auc:0.90140\tvalidation_1-auc:0.57198\n",
      "[29]\tvalidation_0-auc:0.90240\tvalidation_1-auc:0.57207\n",
      "[30]\tvalidation_0-auc:0.90323\tvalidation_1-auc:0.57253\n",
      "[31]\tvalidation_0-auc:0.90417\tvalidation_1-auc:0.57385\n",
      "[32]\tvalidation_0-auc:0.90783\tvalidation_1-auc:0.57518\n",
      "[33]\tvalidation_0-auc:0.90940\tvalidation_1-auc:0.57289\n",
      "[34]\tvalidation_0-auc:0.91069\tvalidation_1-auc:0.57245\n",
      "[35]\tvalidation_0-auc:0.92054\tvalidation_1-auc:0.57317\n",
      "[36]\tvalidation_0-auc:0.92073\tvalidation_1-auc:0.57343\n",
      "[37]\tvalidation_0-auc:0.92505\tvalidation_1-auc:0.57585\n",
      "[38]\tvalidation_0-auc:0.92818\tvalidation_1-auc:0.57611\n",
      "[39]\tvalidation_0-auc:0.92827\tvalidation_1-auc:0.57606\n",
      "[40]\tvalidation_0-auc:0.92838\tvalidation_1-auc:0.57629\n",
      "[41]\tvalidation_0-auc:0.93213\tvalidation_1-auc:0.57492\n",
      "[42]\tvalidation_0-auc:0.93596\tvalidation_1-auc:0.57468\n",
      "[43]\tvalidation_0-auc:0.93854\tvalidation_1-auc:0.57534\n",
      "[44]\tvalidation_0-auc:0.93863\tvalidation_1-auc:0.57558\n",
      "[45]\tvalidation_0-auc:0.93994\tvalidation_1-auc:0.57557\n",
      "[46]\tvalidation_0-auc:0.94215\tvalidation_1-auc:0.57403\n",
      "[47]\tvalidation_0-auc:0.94338\tvalidation_1-auc:0.57450\n",
      "[48]\tvalidation_0-auc:0.94342\tvalidation_1-auc:0.57420\n",
      "[49]\tvalidation_0-auc:0.94483\tvalidation_1-auc:0.57226\n",
      "[50]\tvalidation_0-auc:0.94586\tvalidation_1-auc:0.57326\n",
      "[51]\tvalidation_0-auc:0.94957\tvalidation_1-auc:0.57355\n",
      "[52]\tvalidation_0-auc:0.94992\tvalidation_1-auc:0.57320\n",
      "[53]\tvalidation_0-auc:0.95577\tvalidation_1-auc:0.57240\n",
      "[54]\tvalidation_0-auc:0.95578\tvalidation_1-auc:0.57268\n",
      "[55]\tvalidation_0-auc:0.95608\tvalidation_1-auc:0.57308\n",
      "[56]\tvalidation_0-auc:0.96164\tvalidation_1-auc:0.57432\n",
      "[57]\tvalidation_0-auc:0.96757\tvalidation_1-auc:0.57354\n",
      "[58]\tvalidation_0-auc:0.97052\tvalidation_1-auc:0.57479\n",
      "[59]\tvalidation_0-auc:0.97241\tvalidation_1-auc:0.57516\n",
      "[60]\tvalidation_0-auc:0.97242\tvalidation_1-auc:0.57561\n",
      "[61]\tvalidation_0-auc:0.97366\tvalidation_1-auc:0.57595\n",
      "[62]\tvalidation_0-auc:0.97658\tvalidation_1-auc:0.57473\n",
      "[63]\tvalidation_0-auc:0.97715\tvalidation_1-auc:0.57349\n",
      "[64]\tvalidation_0-auc:0.97831\tvalidation_1-auc:0.57373\n",
      "[65]\tvalidation_0-auc:0.98179\tvalidation_1-auc:0.57302\n",
      "[66]\tvalidation_0-auc:0.98173\tvalidation_1-auc:0.57331\n",
      "[67]\tvalidation_0-auc:0.98510\tvalidation_1-auc:0.57565\n",
      "[68]\tvalidation_0-auc:0.98700\tvalidation_1-auc:0.57516\n",
      "[69]\tvalidation_0-auc:0.98698\tvalidation_1-auc:0.57535\n"
     ]
    },
    {
     "data": {
      "text/plain": [
       "XGBClassifier(base_score=0.5, booster='gbtree', colsample_bylevel=1,\n",
       "              colsample_bynode=1, colsample_bytree=1, gamma=0.1, gpu_id=-1,\n",
       "              importance_type='gain', interaction_constraints='',\n",
       "              learning_rate=0.1, max_delta_step=0, max_depth=7,\n",
       "              min_child_weight=5, missing=nan, monotone_constraints='()',\n",
       "              n_estimators=100, n_jobs=12, num_parallel_tree=1, random_state=42,\n",
       "              reg_alpha=0, reg_lambda=1, scale_pos_weight=1, seed=42,\n",
       "              silent=True, subsample=1, tree_method='exact',\n",
       "              validate_parameters=1, verbosity=None)"
      ]
     },
     "execution_count": 32,
     "metadata": {},
     "output_type": "execute_result"
    }
   ],
   "source": [
    "# Train the xgboost model\n",
    "eval_set = [(X_train_upsamp, Y_train_upsamp), (X_valid, Y_valid)]\n",
    "uplift_model = xgb.XGBClassifier(learning_rate = 0.1, max_depth = 7, min_child_weight = 5, objective = 'binary:logistic', seed = 42, gamma = 0.1, silent = True)\n",
    "uplift_model.fit(X_train_upsamp, Y_train_upsamp, eval_set=eval_set, eval_metric=\"auc\", verbose=True, early_stopping_rounds=30)"
   ]
  },
  {
   "cell_type": "code",
   "execution_count": 33,
   "id": "a7f67fd2",
   "metadata": {},
   "outputs": [
    {
     "data": {
      "image/png": "[encoded data removed]",
      "text/plain": [
       "<Figure size 720x720 with 1 Axes>"
      ]
     },
     "metadata": {
      "needs_background": "light"
     },
     "output_type": "display_data"
    }
   ],
   "source": [
    "# check which features are important\n",
    "from xgboost import plot_importance\n",
    "from matplotlib import pyplot\n",
    "\n",
    "fig, ax = pyplot.subplots(figsize=(10, 10));\n",
    "xgb.plot_importance(uplift_model, ax=ax);"
   ]
  },
  {
   "cell_type": "code",
   "execution_count": 34,
   "id": "dba5bd50",
   "metadata": {},
   "outputs": [
    {
     "name": "stderr",
     "output_type": "stream",
     "text": [
      "/home/ubuntu1804/.local/lib/python3.8/site-packages/xgboost/core.py:101: UserWarning: ntree_limit is deprecated, use `iteration_range` or model slicing instead.\n",
      "  warnings.warn(\n"
     ]
    },
    {
     "data": {
      "text/plain": [
       "array([[12769,  3997],\n",
       "       [   96,    45]])"
      ]
     },
     "execution_count": 34,
     "metadata": {},
     "output_type": "execute_result"
    }
   ],
   "source": [
    "# confusion matrix for the validation set\n",
    "valid_pred = uplift_model.predict(X_valid, ntree_limit=uplift_model.best_ntree_limit)\n",
    "cm = sk.metrics.confusion_matrix\n",
    "cm(Y_valid, valid_pred)"
   ]
  },
  {
   "cell_type": "code",
   "execution_count": 35,
   "id": "051b0ec3",
   "metadata": {},
   "outputs": [
    {
     "data": {
      "image/png": "[encoded data removed]",
      "text/plain": [
       "<Figure size 720x720 with 2 Axes>"
      ]
     },
     "metadata": {
      "needs_background": "light"
     },
     "output_type": "display_data"
    }
   ],
   "source": [
    "# plot the confusion matrix\n",
    "\n",
    "fig, ax= plt.subplots(figsize=(10,10))\n",
    "sb.heatmap(cm(Y_valid, valid_pred), annot=True, fmt='g', ax = ax, cmap=\"Blues\"); \n",
    "\n",
    "# labels, title and ticks\n",
    "ax.set_xlabel('Predicted labels');\n",
    "ax.set_ylabel('True labels'); \n",
    "ax.set_title('Confusion Matrix'); \n",
    "ax.xaxis.set_ticklabels(['No Purchase', 'Made Purchase']); \n",
    "ax.yaxis.set_ticklabels(['No Purchase', 'Made Purchase']);"
   ]
  },
  {
   "cell_type": "code",
   "execution_count": 36,
   "id": "a1c4693e",
   "metadata": {
    "scrolled": true
   },
   "outputs": [
    {
     "name": "stdout",
     "output_type": "stream",
     "text": [
      "Nice job!  See how well your strategy worked on our test data below!\n",
      "\n",
      "Your irr with this strategy is 0.0188.\n",
      "\n",
      "Your nir with this strategy is 181.90.\n",
      "We came up with a model with an irr of 0.0188 and an nir of 189.45 on the test set.\n",
      "\n",
      " How did you do?\n"
     ]
    },
    {
     "name": "stderr",
     "output_type": "stream",
     "text": [
      "/home/ubuntu1804/.local/lib/python3.8/site-packages/xgboost/core.py:101: UserWarning: ntree_limit is deprecated, use `iteration_range` or model slicing instead.\n",
      "  warnings.warn(\n"
     ]
    },
    {
     "data": {
      "text/plain": [
       "(0.01880489698332953, 181.89999999999998)"
      ]
     },
     "execution_count": 36,
     "metadata": {},
     "output_type": "execute_result"
    }
   ],
   "source": [
    "# This will test your results, and provide you back some information on how well your promotion_strategy will work in practice\n",
    "\n",
    "test_results(promotion_strategy, tpe='uplift', model=uplift_model)"
   ]
  },
  {
   "cell_type": "markdown",
   "id": "ecf527e1",
   "metadata": {},
   "source": [
    "---\n",
    "# Conclusion\n",
    "\n",
    "Using the Logistic Regression (LR) approach, we were able to reach more than starbucks' expected net incremental revenue (\\\\$310.6) while we got almost the same nir (\\\\$182). Moreover, both Incremental Response Rates were close (1.84% and 1.88% respectively). The LR model outperformed the Uplift model regarding the NIR index while the Uplift model outperformed in the IIR index slightly. \n",
    "\n",
    "While we have a big imbalance in the purchased data that needed to be handled, the results showed a clear benefit for starbucks' in using the targeted promotion after the usage of any of these 2 models. Even though more experiments and sampling could be performed in order to induce better predictions, the results were satisfactory compared to Starbucks' goals.\n",
    "\n"
   ]
  }
 ],
 "metadata": {
  "kernelspec": {
   "display_name": "Python 3",
   "language": "python",
   "name": "python3"
  },
  "language_info": {
   "codemirror_mode": {
    "name": "ipython",
    "version": 3
   },
   "file_extension": ".py",
   "mimetype": "text/x-python",
   "name": "python",
   "nbconvert_exporter": "python",
   "pygments_lexer": "ipython3",
   "version": "3.8.8"
  }
 },
 "nbformat": 4,
 "nbformat_minor": 5
}
